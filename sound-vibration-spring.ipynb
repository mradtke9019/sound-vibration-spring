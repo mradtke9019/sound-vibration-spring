{
 "cells": [
  {
   "cell_type": "code",
   "execution_count": 17,
   "metadata": {},
   "outputs": [],
   "source": [
    "# Dampened/Undampened System plot\n",
    "import numpy as np\n",
    "import matplotlib.pyplot as plt\n",
    "import matplotlib.animation as animation\n",
    "import math \n",
    "from matplotlib.animation import FuncAnimation\n",
    "from matplotlib.animation import PillowWriter"
   ]
  },
  {
   "cell_type": "code",
   "execution_count": 18,
   "metadata": {},
   "outputs": [],
   "source": [
    "scale = 10\n",
    "t = np.linspace(scale * -np.pi, scale * np.pi, 100 * scale)\n",
    "x0 = 1\n",
    "omega = 1\n",
    "phi = 0\n",
    "x = x0 * np.cos(omega * t + phi)"
   ]
  },
  {
   "cell_type": "code",
   "execution_count": 19,
   "metadata": {},
   "outputs": [
    {
     "data": {
      "image/png": "[encoded data removed]",
      "text/plain": [
       "<Figure size 432x288 with 1 Axes>"
      ]
     },
     "metadata": {
      "needs_background": "light"
     },
     "output_type": "display_data"
    }
   ],
   "source": [
    "\n",
    "plt.plot(t, x, color=\"blue\", linewidth=1, linestyle=\"-\", label=\"Undampened System\")\n",
    "\n",
    "plt.legend(loc='upper left')\n",
    "# plt.xticks([-np.pi, -np.pi/2, 0, np.pi/2, np.pi],\n",
    "#           [r'$-\\pi$', r'$-\\pi/2$', r'$0$', r'$+\\pi/2$', r'$+\\pi$'])\n",
    "\n",
    "plt.yticks([-2,-1, 0, +1,+2],\n",
    "          [r'$-2$',r'$-1$', r'$0$', r'$+1$',r'$+2$'])\n",
    "\n",
    "\n",
    "ax = plt.gca()  # gca stands for 'get current axis'\n",
    "\n",
    "ax.set_xlabel('time')\n",
    "ax.set_ylabel('position')\n",
    "# ax.set_title('data.csv')\n",
    "ax.legend()\n",
    "\n",
    "ax.spines['right'].set_color('none')\n",
    "ax.spines['top'].set_color('none')\n",
    "ax.xaxis.set_ticks_position('bottom')\n",
    "ax.spines['bottom'].set_position(('data',0))\n",
    "ax.yaxis.set_ticks_position('left')\n",
    "ax.spines['left'].set_position(('data',0))\n",
    "plt.show()"
   ]
  },
  {
   "cell_type": "code",
   "execution_count": null,
   "metadata": {},
   "outputs": [],
   "source": [
    "# generate random points on interval\n",
    "xData = np.random.uniform(0, 10, 1000)\n",
    "yData = np.random.uniform(0, 1, 1000)\n",
    "\n",
    "print"
   ]
  },
  {
   "cell_type": "code",
   "execution_count": 53,
   "metadata": {},
   "outputs": [
    {
     "name": "stdout",
     "output_type": "stream",
     "text": [
      "done\n"
     ]
    }
   ],
   "source": [
    "fig, ax = plt.subplots(1, 1)\n",
    "fig.set_size_inches(5,5)\n",
    "\n",
    "# generate random points on interval\n",
    "xData = np.random.uniform(0, 5, 500)\n",
    "yData = np.random.uniform(0, 1, 500)\n",
    "data = np.stack((xData,yData), axis = -1)\n",
    "\n",
    "def animate_points(i):\n",
    "    ax.clear()\n",
    "    # Get the point from the points list at index i\n",
    "    # Plot that point using the x and y coordinates\n",
    "    # Set the x and y axis to display a fixed range\n",
    "    for x,y in data:\n",
    "        finalY = math.cos(x * i) + y\n",
    "        ax.plot(x, finalY, color='green', marker='o')\n",
    "    \n",
    "    ax.set_xlim([0, 5])\n",
    "    ax.set_ylim([-1, 2])\n",
    "        \n",
    "\n",
    "\n",
    "ani = FuncAnimation(fig, animate_points, frames= 100, interval=500, repeat=True)\n",
    "plt.close()\n",
    "ani.save(\"transverse_wave.gif\", dpi=300,\n",
    "         writer=PillowWriter(fps=5))\n",
    "print(\"done\")"
   ]
  },
  {
   "cell_type": "code",
   "execution_count": 56,
   "metadata": {},
   "outputs": [
    {
     "name": "stdout",
     "output_type": "stream",
     "text": [
      "done\n"
     ]
    }
   ],
   "source": [
    "fig, ax = plt.subplots(1, 1)\n",
    "fig.set_size_inches(5,5)\n",
    "\n",
    "# generate random points on interval\n",
    "xData = np.random.uniform(0, 5, 100)\n",
    "yData = np.random.uniform(0, 1, 100)\n",
    "data = np.stack((xData,yData), axis = -1)\n",
    "symbol = 0.5\n",
    "def animate_points_attenuation(i):\n",
    "    ax.clear()\n",
    "    # Get the point from the points list at index i\n",
    "    # Plot that point using the x and y coordinates\n",
    "    # Set the x and y axis to display a fixed range\n",
    "    for x,y in data:\n",
    "        finalY = (math.e ** (-symbol * i) * math.cos(math.sqrt(1 -symbol**2) * x * i)) + y\n",
    "        ax.plot(x, finalY, color='green', marker='o')\n",
    "    \n",
    "    ax.set_xlim([0, 5])\n",
    "    ax.set_ylim([-1, 2])\n",
    "\n",
    "anim = FuncAnimation(fig, animate_points_attenuation, frames = 30, interval=500, repeat=False)\n",
    "plt.close()\n",
    "anim.save(\"transverse_wave_attenuation.gif\", dpi=300, writer=PillowWriter(fps=5))\n",
    "print(\"done\")"
   ]
  },
  {
   "cell_type": "code",
   "execution_count": 57,
   "metadata": {},
   "outputs": [
    {
     "name": "stdout",
     "output_type": "stream",
     "text": [
      "done\n"
     ]
    }
   ],
   "source": [
    "\n",
    "fig, ax = plt.subplots(1, 1)\n",
    "fig.set_size_inches(5,5)\n",
    "\n",
    "# generate random points on interval\n",
    "xData = np.random.uniform(0, 5, 100)\n",
    "yData = np.random.uniform(0, 1, 100)\n",
    "data = np.stack((xData,yData), axis = -1)\n",
    "\n",
    "def animate_points(i):\n",
    "    ax.clear()\n",
    "    # Get the point from the points list at index i\n",
    "    # Plot that point using the x and y coordinates\n",
    "    # Set the x and y axis to display a fixed range\n",
    "    for x,y in data:\n",
    "        finalX = math.cos(x + i) + x\n",
    "        ax.plot(finalX, y, color='green', marker='o')\n",
    "    \n",
    "    ax.set_xlim([-1, 6])\n",
    "    ax.set_ylim([-1, 2])\n",
    "        \n",
    "\n",
    "\n",
    "ani = FuncAnimation(fig, animate_points, frames= 100, interval=500, repeat=True)\n",
    "plt.close()\n",
    "ani.save(\"longitudinal_wave.gif\", dpi=300, writer=PillowWriter(fps=5))\n",
    "print(\"done\")"
   ]
  },
  {
   "cell_type": "code",
   "execution_count": null,
   "metadata": {},
   "outputs": [],
   "source": []
  }
 ],
 "metadata": {
  "kernelspec": {
   "display_name": "Python 3",
   "language": "python",
   "name": "python3"
  },
  "language_info": {
   "codemirror_mode": {
    "name": "ipython",
    "version": 3
   },
   "file_extension": ".py",
   "mimetype": "text/x-python",
   "name": "python",
   "nbconvert_exporter": "python",
   "pygments_lexer": "ipython3",
   "version": "3.7.4"
  }
 },
 "nbformat": 4,
 "nbformat_minor": 2
}
